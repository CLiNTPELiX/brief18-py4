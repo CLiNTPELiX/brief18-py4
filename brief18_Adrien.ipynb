{
  "nbformat": 4,
  "nbformat_minor": 0,
  "metadata": {
    "colab": {
      "name": "brief18 - Adrien.ipynb",
      "provenance": [],
      "collapsed_sections": [],
      "authorship_tag": "ABX9TyPsRTs2iMnS/Yi6LD5allMt",
      "include_colab_link": true
    },
    "kernelspec": {
      "name": "python3",
      "display_name": "Python 3"
    },
    "language_info": {
      "name": "python"
    }
  },
  "cells": [
    {
      "cell_type": "markdown",
      "metadata": {
        "id": "view-in-github",
        "colab_type": "text"
      },
      "source": [
        "<a href=\"https://colab.research.google.com/github/CLiNTPELiX/brief18-py4/blob/main/brief18_Adrien.ipynb\" target=\"_parent\"><img src=\"https://colab.research.google.com/assets/colab-badge.svg\" alt=\"Open In Colab\"/></a>"
      ]
    },
    {
      "cell_type": "code",
      "metadata": {
        "id": "ZSDFUtaiW9gD"
      },
      "source": [
        "import numpy as np\n",
        "#import pandas as pd\n",
        "\n",
        "class Pyfour:\n",
        "  \"\"\"\n",
        "  DOCSTRING: Connect 4 game in Python using human vs human & human vs AI\n",
        "  \"\"\"\n",
        "  pyfour_board_counter = 0\n",
        "  numberOfPlayer = 0\n",
        "  \n",
        "  def __init__(self):\n",
        "    \"\"\"\n",
        "    DOCSTRING: Increment a counter each init and sets default grid values\n",
        "    \"\"\"\n",
        "    Pyfour.pyfour_board_counter += 1\n",
        "    self.board_nb = Pyfour.pyfour_board_counter\n",
        "    self.default_nboflines = 6\n",
        "    self.default_nbofcolumns = 7\n",
        "    self.board = np.zeros((self.default_nboflines, self.default_nbofcolumns), dtype=int)\n",
        "    # self.board = [[0,0,0,0,0,0,0]\n",
        "    #               [0,0,0,0,0,0,0]\n",
        "    #               [0,0,0,0,0,0,0]\n",
        "    #               [0,0,0,0,0,0,0]\n",
        "    #               [0,0,0,0,0,0,0]\n",
        "    #               [0,0,0,0,0,0,0]]\n",
        "\n",
        "  def nbPlayer(self):\n",
        "    \"\"\"\n",
        "    DOCSTRING: number of player(s)\n",
        "    \"\"\"\n",
        "    while self.numberOfPlayer <= 0 or self.numberOfPlayer > 2:\n",
        "          self.numberOfPlayer = int(input(\"Select number of player(s) 1 or 2 :\"))\n",
        "    return print(\"\\n\", f\"The game will begin with {self.numberOfPlayer} player(s)\", \"\\n\")\n",
        "\n",
        "  def displayBoard(self):\n",
        "    \"\"\"\n",
        "    DOCSTRING: Display the board\n",
        "    \"\"\"\n",
        "    board = self.board\n",
        "    return print(board, \"\\n\")\n",
        "\n",
        "  def displayBoardNumber(self):\n",
        "    \"\"\"\n",
        "    DOCSTRING: Display the board number\n",
        "    \"\"\"\n",
        "    print(f\"Board #{self.board_nb}\", \"\\n\")\n",
        "\n",
        "  # def isAvailable(self, line, column):\n",
        "  #   if line[column] == 0:\n",
        "  #     return True\n",
        "  #   return False\n",
        "\n",
        "  def isColFull(self, column:int):\n",
        "    if 0 not in self.board[:,column]:\n",
        "      return True\n",
        "    else:\n",
        "      return False\n",
        "\n",
        "  def colChoice(self, player:int, choice:int):\n",
        "    \"\"\"\n",
        "    DOCSTRING: Inserting a coin into a col\n",
        "    \"\"\"\n",
        "    \n",
        "    if self.isBoardFull():\n",
        "      return -2\n",
        "    elif self.isColFull(choice):\n",
        "      print(f'Column {choice} full')\n",
        "      return -1\n",
        "    else:\n",
        "      column = self.board[:,choice]\n",
        "      for i in range(0, self.default_nboflines)[::-1]:\n",
        "        if column[i] == 0:\n",
        "          column[i] = player\n",
        "          break\n",
        "      return i\n",
        "\n",
        "\n",
        "  def isBoardFull(self):\n",
        "    \"\"\"\n",
        "    DOCSTRING: \n",
        "    \"\"\"\n",
        "    return 0 not in self.board[0]\n",
        "\n",
        "  def player_input(self, player, choice): #player = coin value (-1, 1) \n",
        "    \"\"\" \n",
        "    DOCSTRING: \n",
        "    \"\"\"\n",
        "    \n",
        "    line = self.colChoice(player, choice) # Shall we play ?\n",
        "    if line < 0:\n",
        "      return line\n",
        "    \n",
        "    # Connect4 test on col\n",
        "    column = self.board[:,choice]\n",
        "    if np.all(column[line:line+4] == player) and len(column[line:line+4]) == 4:\n",
        "      return self.board, 1, True\n",
        "\n",
        "    # Connect4 test on line\n",
        "    window = [player] * 4\n",
        "    test = np.convolve(self.board[line, max(0, choice-3):choice+4], window)\n",
        "    if player*4 in test:\n",
        "      return self.board, 1, True #2\n",
        "    \n",
        "    # Connect4 test on diag\n",
        "    board_padded = np.pad(self.board, (3, 3))\n",
        "    #m8 = self.board[max(0, line-4):line+4, max(0, choice-4):choice+4]\n",
        "    m8 = board_padded[line-3+3:line+4+3, choice-3+3:choice+4+3]\n",
        "\n",
        "    d1 = np.diag(m8)\n",
        "    d2 = np.diag(m8[::-1])\n",
        "    \n",
        "    #\n",
        "    test = np.convolve(d1, window)\n",
        "    if player*4 in test:\n",
        "      return self.board, 1, True #3\n",
        "    \n",
        "    #\n",
        "    test = np.convolve(d2, window)\n",
        "    if player*4 in test:\n",
        "      return self.board, 1, True\n",
        "\n",
        "    # Random move for player2\n",
        "    choice2 = np.random.randint(0, 7) # random player choice\n",
        "\n",
        "    player2 = -player\n",
        "\n",
        "    line = self.colChoice(player2, choice2)\n",
        "    while line == -1: # if the line is full....\n",
        "      line = self.colChoice(player2, choice2)\n",
        "    if line == -2:\n",
        "      return self.board, 0, True # Draw\n",
        "    \n",
        "    # Connect4 test on col\n",
        "    column = self.board[:,choice2]\n",
        "    if np.all(column[line:line+4] == player2) and len(column[line:line+4]) == 4:\n",
        "      return self.board, -1, True\n",
        "    # Connect4 test on line\n",
        "    window = [player2] * 4\n",
        "    test = np.convolve(self.board[line, max(0, choice2-3):choice2+4], window)\n",
        "    if player2*4 in test:\n",
        "      return self.board, -1, True\n",
        "    \n",
        "    # Connect4 test on diag\n",
        "    board_padded = np.pad(self.board, (3, 3))\n",
        "    m8 = board_padded[line-3+3:line+4+3, choice2-3+3:choice2+4+3]\n",
        "    d1 = np.diag(m8)\n",
        "    d2 = np.diag(m8[::-1])\n",
        "    #\n",
        "    test = np.convolve(d1, window)\n",
        "    if player2*4 in test:\n",
        "      return self.board, -1, True\n",
        "    #\n",
        "    test = np.convolve(d2, window)\n",
        "    if player2*4 in test:\n",
        "      return self.board, -1, True\n",
        "\n",
        "    return self.board, 0, self.isBoardFull()\n",
        "\n",
        "    # while (p1 <= 1) or (p1 > 7):\n",
        "    #   p1 = int(input(\"Player 1 : Choose an empty column between (1 to 7) \"))\n",
        "    # return print(f\"Player 1 chose {p1}\")"
      ],
      "execution_count": null,
      "outputs": []
    },
    {
      "cell_type": "code",
      "metadata": {
        "colab": {
          "base_uri": "https://localhost:8080/"
        },
        "id": "uYI62i-bY2Dr",
        "outputId": "20d6bf9d-97b5-45f8-df35-5560bed4a81b"
      },
      "source": [
        "g = Pyfour()\n",
        "\n",
        "#g.nbPlayer()\n",
        "g.displayBoardNumber()\n",
        "g.displayBoard()\n",
        "#for i in range(0, 6): print(g.board[[i]])\n",
        "#g.colChoice()\n"
      ],
      "execution_count": null,
      "outputs": [
        {
          "output_type": "stream",
          "text": [
            "Board #1 \n",
            "\n",
            "[[0 0 0 0 0 0 0]\n",
            " [0 0 0 0 0 0 0]\n",
            " [0 0 0 0 0 0 0]\n",
            " [0 0 0 0 0 0 0]\n",
            " [0 0 0 0 0 0 0]\n",
            " [0 0 0 0 0 0 0]] \n",
            "\n"
          ],
          "name": "stdout"
        }
      ]
    },
    {
      "cell_type": "code",
      "metadata": {
        "colab": {
          "base_uri": "https://localhost:8080/"
        },
        "id": "Cl6WYWBabcPc",
        "outputId": "79159c4b-4888-42d2-da98-65b9ee86d4a6"
      },
      "source": [
        "g.colChoice()"
      ],
      "execution_count": null,
      "outputs": [
        {
          "output_type": "stream",
          "text": [
            "Insert a coin into a column between 0 and 6 : 0\n"
          ],
          "name": "stdout"
        },
        {
          "output_type": "execute_result",
          "data": {
            "text/plain": [
              "0"
            ]
          },
          "metadata": {
            "tags": []
          },
          "execution_count": 169
        }
      ]
    },
    {
      "cell_type": "code",
      "metadata": {
        "colab": {
          "base_uri": "https://localhost:8080/"
        },
        "id": "1DfLBTNAY5qv",
        "outputId": "c89b7690-748d-42e8-d6ab-69b2c5cfde95"
      },
      "source": [
        "g.displayBoard\n",
        "#g.createBoard()\n",
        "#g.displayBoard()"
      ],
      "execution_count": null,
      "outputs": [
        {
          "output_type": "execute_result",
          "data": {
            "text/plain": [
              "<bound method Pyfour.displayBoard of <__main__.Pyfour object at 0x7fb05a923110>>"
            ]
          },
          "metadata": {
            "tags": []
          },
          "execution_count": 166
        }
      ]
    },
    {
      "cell_type": "code",
      "metadata": {
        "id": "yhHOFzjYZGcM",
        "colab": {
          "base_uri": "https://localhost:8080/"
        },
        "outputId": "b4e55f16-f0a2-41ce-95c6-577a216e4e12"
      },
      "source": [
        "g = Pyfour()\n",
        "\n",
        "print(g.player_input(player= 1, choice=3))"
      ],
      "execution_count": null,
      "outputs": [
        {
          "output_type": "stream",
          "text": [
            "(array([[ 0,  0,  0,  0,  0,  0,  0],\n",
            "       [ 0,  0,  0,  0,  0,  0,  0],\n",
            "       [ 0,  0,  0,  0,  0,  0,  0],\n",
            "       [ 0,  0,  0,  0,  0,  0,  0],\n",
            "       [ 0,  0,  0, -1,  0,  0,  0],\n",
            "       [ 0,  0,  0,  1,  0,  0,  0]]), 0, False)\n"
          ],
          "name": "stdout"
        }
      ]
    },
    {
      "cell_type": "code",
      "metadata": {
        "id": "UNacmNrRsb0a",
        "colab": {
          "base_uri": "https://localhost:8080/"
        },
        "outputId": "0aa3966d-96fe-4290-d2d8-e1b5ce70740b"
      },
      "source": [
        "g.player_input(player= 1, choice=5)"
      ],
      "execution_count": null,
      "outputs": [
        {
          "output_type": "execute_result",
          "data": {
            "text/plain": [
              "(array([[ 0,  0,  0,  0,  0,  0, -1],\n",
              "        [ 0,  0,  0,  0,  0,  0,  1],\n",
              "        [ 0,  0,  0,  0,  0,  1, -1],\n",
              "        [ 0,  0,  0,  0,  0,  1,  1],\n",
              "        [-1,  0,  0, -1,  0,  1, -1],\n",
              "        [-1,  0,  0,  1, -1,  1,  1]]), 1, True)"
            ]
          },
          "metadata": {
            "tags": []
          },
          "execution_count": 107
        }
      ]
    },
    {
      "cell_type": "code",
      "metadata": {
        "colab": {
          "base_uri": "https://localhost:8080/"
        },
        "id": "92_hJZ2LyoJS",
        "outputId": "de3fbf62-64cd-4a72-cd0a-b0515ae3e4f6"
      },
      "source": [
        "g.displayBoard"
      ],
      "execution_count": null,
      "outputs": [
        {
          "output_type": "execute_result",
          "data": {
            "text/plain": [
              "<bound method Pyfour.displayBoard of <__main__.Pyfour object at 0x7f073e829bd0>>"
            ]
          },
          "metadata": {
            "tags": []
          },
          "execution_count": 104
        }
      ]
    },
    {
      "cell_type": "code",
      "metadata": {
        "id": "8MdN8xiry3mn"
      },
      "source": [
        ""
      ],
      "execution_count": null,
      "outputs": []
    }
  ]
}